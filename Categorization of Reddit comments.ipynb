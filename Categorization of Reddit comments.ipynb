{
 "cells": [
  {
   "cell_type": "code",
   "execution_count": 12,
   "metadata": {},
   "outputs": [],
   "source": [
    "import numpy as np\n",
    "import pandas as pd\n",
    "import spacy \n",
    "nlp = spacy.load('en_core', parse=True, tag=True, entity=True)\n",
    "import re\n",
    "import nltk\n",
    "from nltk.tokenize.toktok import ToktokTokenizer\n",
    "tokenizer = ToktokTokenizer()\n",
    "stopword_list = nltk.corpus.stopwords.words('english')\n",
    "import unicodedata\n",
    "from sklearn.feature_extraction.text import CountVectorizer\n",
    "from sklearn.feature_extraction.text import TfidfVectorizer\n",
    "from sklearn.preprocessing import LabelEncoder\n",
    "from sklearn import preprocessing\n",
    "from sklearn.preprocessing import MaxAbsScaler\n",
    "from sklearn.model_selection import train_test_split\n",
    "from sklearn.metrics import accuracy_score,confusion_matrix,classification_report\n",
    "from sklearn.svm import SVC \n",
    "from sklearn.ensemble import RandomForestClassifier\n",
    "from sklearn.pipeline import Pipeline\n",
    "from sklearn.model_selection import GridSearchCV"
   ]
  },
  {
   "cell_type": "code",
   "execution_count": 46,
   "metadata": {},
   "outputs": [
    {
     "data": {
      "text/html": [
       "<div>\n",
       "<style scoped>\n",
       "    .dataframe tbody tr th:only-of-type {\n",
       "        vertical-align: middle;\n",
       "    }\n",
       "\n",
       "    .dataframe tbody tr th {\n",
       "        vertical-align: top;\n",
       "    }\n",
       "\n",
       "    .dataframe thead th {\n",
       "        text-align: right;\n",
       "    }\n",
       "</style>\n",
       "<table border=\"1\" class=\"dataframe\">\n",
       "  <thead>\n",
       "    <tr style=\"text-align: right;\">\n",
       "      <th></th>\n",
       "      <th>id</th>\n",
       "      <th>subreddit</th>\n",
       "      <th>title</th>\n",
       "      <th>selftext</th>\n",
       "    </tr>\n",
       "  </thead>\n",
       "  <tbody>\n",
       "    <tr>\n",
       "      <th>0</th>\n",
       "      <td>6d8knd</td>\n",
       "      <td>talesfromtechsupport</td>\n",
       "      <td>Remember your command line switches...</td>\n",
       "      <td>Hi there,  &lt;lb&gt;The usual. Long time lerker, fi...</td>\n",
       "    </tr>\n",
       "    <tr>\n",
       "      <th>1</th>\n",
       "      <td>58mbft</td>\n",
       "      <td>teenmom</td>\n",
       "      <td>So what was Matt \"addicted\" to?</td>\n",
       "      <td>Did he ever say what his addiction was or is h...</td>\n",
       "    </tr>\n",
       "    <tr>\n",
       "      <th>2</th>\n",
       "      <td>8f73s7</td>\n",
       "      <td>Harley</td>\n",
       "      <td>No Club Colors</td>\n",
       "      <td>Funny story. I went to college in Las Vegas. T...</td>\n",
       "    </tr>\n",
       "    <tr>\n",
       "      <th>3</th>\n",
       "      <td>6ti6re</td>\n",
       "      <td>ringdoorbell</td>\n",
       "      <td>Not door bell, but floodlight mount height.</td>\n",
       "      <td>I know this is a sub for the 'Ring Doorbell' b...</td>\n",
       "    </tr>\n",
       "    <tr>\n",
       "      <th>4</th>\n",
       "      <td>77sxto</td>\n",
       "      <td>intel</td>\n",
       "      <td>Worried about my 8700k small fft/data stress r...</td>\n",
       "      <td>Prime95 (regardless of version) and OCCT both,...</td>\n",
       "    </tr>\n",
       "  </tbody>\n",
       "</table>\n",
       "</div>"
      ],
      "text/plain": [
       "       id             subreddit  \\\n",
       "0  6d8knd  talesfromtechsupport   \n",
       "1  58mbft               teenmom   \n",
       "2  8f73s7                Harley   \n",
       "3  6ti6re          ringdoorbell   \n",
       "4  77sxto                 intel   \n",
       "\n",
       "                                               title  \\\n",
       "0             Remember your command line switches...   \n",
       "1                    So what was Matt \"addicted\" to?   \n",
       "2                                     No Club Colors   \n",
       "3        Not door bell, but floodlight mount height.   \n",
       "4  Worried about my 8700k small fft/data stress r...   \n",
       "\n",
       "                                            selftext  \n",
       "0  Hi there,  <lb>The usual. Long time lerker, fi...  \n",
       "1  Did he ever say what his addiction was or is h...  \n",
       "2  Funny story. I went to college in Las Vegas. T...  \n",
       "3  I know this is a sub for the 'Ring Doorbell' b...  \n",
       "4  Prime95 (regardless of version) and OCCT both,...  "
      ]
     },
     "execution_count": 46,
     "metadata": {},
     "output_type": "execute_result"
    }
   ],
   "source": [
    "rspct_df = pd.read_csv('reddit-selfposts/rspct.tsv', sep='\\t')\n",
    "info_df  = pd.read_csv('reddit-selfposts/subreddit_info.csv')\n",
    "rspct_df.head()"
   ]
  },
  {
   "cell_type": "code",
   "execution_count": 47,
   "metadata": {},
   "outputs": [
    {
     "name": "stdout",
     "output_type": "stream",
     "text": [
      "            subreddit   category_1         category_2 category_3  in_data  \\\n",
      "2842        everquest   video_game          everquest        NaN     True   \n",
      "1848    psychotherapy   profession            therapy        NaN     True   \n",
      "886   ShieldAndroidTV  electronics         television  shield tv     True   \n",
      "1560  twentyonepilots        music  twenty one pilots        NaN     True   \n",
      "3232          teslore   video_game  the elder scrolls        NaN     True   \n",
      "739             gopro  electronics             camera      gopro     True   \n",
      "2179     uBlockOrigin     software  content filtering    u block     True   \n",
      "2825    dwarffortress   video_game     dwarf fortress        NaN     True   \n",
      "1034         HongKong          geo          hong kong    country     True   \n",
      "99            araragi  anime/manga         monogatari        NaN     True   \n",
      "\n",
      "     reason_for_exclusion  \n",
      "2842                  NaN  \n",
      "1848                  NaN  \n",
      "886                   NaN  \n",
      "1560                  NaN  \n",
      "3232                  NaN  \n",
      "739                   NaN  \n",
      "2179                  NaN  \n",
      "2825                  NaN  \n",
      "1034                  NaN  \n",
      "99                    NaN  \n"
     ]
    }
   ],
   "source": [
    "# note that info_df has information on subreddits that are not in data, \n",
    "# we filter them out here\n",
    "info_df = info_df[info_df.in_data]\n",
    "info_df = info_df.sample(n=10, random_state=1)\n",
    "print(info_df)"
   ]
  },
  {
   "cell_type": "code",
   "execution_count": 65,
   "metadata": {},
   "outputs": [
    {
     "data": {
      "text/plain": [
       "array(['everquest', 'psychotherapy', 'ShieldAndroidTV', 'twentyonepilots',\n",
       "       'teslore', 'gopro', 'uBlockOrigin', 'dwarffortress', 'HongKong',\n",
       "       'araragi'], dtype=object)"
      ]
     },
     "execution_count": 65,
     "metadata": {},
     "output_type": "execute_result"
    }
   ],
   "source": [
    "info_df.subreddit.unique()"
   ]
  },
  {
   "cell_type": "code",
   "execution_count": 48,
   "metadata": {},
   "outputs": [],
   "source": [
    "#Text pre-processing\n",
    "def text_preprocess(text):\n",
    "    #remove chinese character\n",
    "    text = re.sub(r'[^\\x00-\\x7f]',r'', text)\n",
    "    #remove numbers\n",
    "    text = re.sub('\\d+', '', text)\n",
    "    text = re.sub('_', '', text)\n",
    "    text = re.sub('\\s+', ' ', text)\n",
    "    #remove html links\n",
    "    text = re.sub('http[s]?://(?:[a-zA-Z]|[0-9]|[$-_@.&+]|[!*\\(\\),]|(?:%[0-9a-fA-F][0-9a-fA-F]))+','',text)\n",
    "    #replace special characters with ''\n",
    "    text = re.sub('[^\\w\\s]', '', text)\n",
    "    #remove extra whitespaces\n",
    "    text = text.strip()\n",
    "    #text = text.lower()\n",
    "    #remove accented characters\n",
    "    text = unicodedata.normalize('NFKD', text).encode('ascii', 'ignore').decode('utf-8', 'ignore')\n",
    "    return text\n",
    "\n",
    "#remove stop words\n",
    "def remove_stopwords(text):\n",
    "    tokens = tokenizer.tokenize(text)\n",
    "    tokens = [token.strip() for token in tokens]\n",
    "    text = [token for token in tokens if token.lower() not in stopword_list]\n",
    "    return \" \".join(text)\n",
    "\n",
    "#lemmatize text\n",
    "def lemmatize_text(text):\n",
    "    text = nlp(text)\n",
    "    text = ' '.join([word.lemma_ if word.lemma_ != '-PRON-' else word.text for word in text])\n",
    "    return text"
   ]
  },
  {
   "cell_type": "code",
   "execution_count": 49,
   "metadata": {},
   "outputs": [],
   "source": [
    "def normalize_corpus(corpus):\n",
    "    \n",
    "    normalized_corpus = []\n",
    "    for doc in corpus:\n",
    "        # remove special character and normalize docs\n",
    "        doc = text_preprocess(doc)\n",
    "        # remove stopwords \n",
    "        #doc = remove_stopwords(doc)\n",
    "        # lemmatize docs    \n",
    "        doc = lemmatize_text(doc)\n",
    "        normalized_corpus.append(doc)    \n",
    "    return normalized_corpus"
   ]
  },
  {
   "cell_type": "code",
   "execution_count": 77,
   "metadata": {},
   "outputs": [],
   "source": [
    "# Function to plot confusion matrix\n",
    "# reference: https://datascience.stackexchange.com/questions/40067/confusion-matrix-three-classes-python\n",
    "import matplotlib.pyplot as plt\n",
    "import itertools\n",
    "def plot_confusion_matrix(cm, classes,\n",
    "                          normalize=False,\n",
    "                          title='Confusion matrix',\n",
    "                          cmap=plt.cm.Blues):\n",
    "    \"\"\"\n",
    "    This function prints and plots the confusion matrix.\n",
    "    Normalization can be applied by setting `normalize=True`.\n",
    "    \"\"\"\n",
    "    if normalize:\n",
    "        cm = cm.astype('float') / cm.sum(axis=1)[:, np.newaxis]\n",
    "        print(\"Normalized confusion matrix\")\n",
    "    else:\n",
    "        print('Confusion matrix, without normalization')\n",
    "\n",
    "    print(cm)\n",
    "\n",
    "    plt.imshow(cm, interpolation='nearest', cmap=cmap)\n",
    "    plt.title(title)\n",
    "    plt.colorbar()\n",
    "    tick_marks = np.arange(len(classes))\n",
    "    plt.xticks(tick_marks, classes, rotation=45)\n",
    "    plt.yticks(tick_marks, classes)\n",
    "\n",
    "    fmt = '.2f' if normalize else 'd'\n",
    "    thresh = cm.max() / 2.\n",
    "    for i, j in itertools.product(range(cm.shape[0]), range(cm.shape[1])):\n",
    "        plt.text(j, i, format(cm[i, j], fmt),\n",
    "                 horizontalalignment=\"center\",\n",
    "                 color=\"white\" if cm[i, j] > thresh else \"black\")\n",
    "\n",
    "    plt.ylabel('True label')\n",
    "    plt.xlabel('Predicted label')\n",
    "    plt.tight_layout()"
   ]
  },
  {
   "cell_type": "code",
   "execution_count": 50,
   "metadata": {},
   "outputs": [],
   "source": [
    "#train, test split. The dataset is already ordered in a way that the last 20% data is reserved for stratafied test dataset\n",
    "train_split_index = int(len(rspct_df) * 0.8)\n",
    "train_df, test_df = rspct_df[:train_split_index], rspct_df[train_split_index:]"
   ]
  },
  {
   "cell_type": "code",
   "execution_count": 51,
   "metadata": {},
   "outputs": [],
   "source": [
    "#Taking only a sample of 10 subreddits for Train and Test sets - sub sampling\n",
    "train_df_sample = train_df[train_df['subreddit'].isin(info_df['subreddit'])]\n",
    "test_df_sample = test_df[test_df['subreddit'].isin(info_df['subreddit'])]"
   ]
  },
  {
   "cell_type": "code",
   "execution_count": 52,
   "metadata": {},
   "outputs": [
    {
     "data": {
      "text/html": [
       "<div>\n",
       "<style scoped>\n",
       "    .dataframe tbody tr th:only-of-type {\n",
       "        vertical-align: middle;\n",
       "    }\n",
       "\n",
       "    .dataframe tbody tr th {\n",
       "        vertical-align: top;\n",
       "    }\n",
       "\n",
       "    .dataframe thead th {\n",
       "        text-align: right;\n",
       "    }\n",
       "</style>\n",
       "<table border=\"1\" class=\"dataframe\">\n",
       "  <thead>\n",
       "    <tr style=\"text-align: right;\">\n",
       "      <th></th>\n",
       "      <th>posts</th>\n",
       "      <th>subreddit</th>\n",
       "    </tr>\n",
       "  </thead>\n",
       "  <tbody>\n",
       "    <tr>\n",
       "      <th>794</th>\n",
       "      <td>How secure is the Lore about the towers? First...</td>\n",
       "      <td>teslore</td>\n",
       "    </tr>\n",
       "    <tr>\n",
       "      <th>801</th>\n",
       "      <td>ERROR - handle_stream_read error 335544539 sho...</td>\n",
       "      <td>ShieldAndroidTV</td>\n",
       "    </tr>\n",
       "    <tr>\n",
       "      <th>813</th>\n",
       "      <td>Should you REALLY watch Monogatari in the broa...</td>\n",
       "      <td>araragi</td>\n",
       "    </tr>\n",
       "    <tr>\n",
       "      <th>1064</th>\n",
       "      <td>PhD in Counselor Education and Supervision Hi,...</td>\n",
       "      <td>psychotherapy</td>\n",
       "    </tr>\n",
       "    <tr>\n",
       "      <th>1068</th>\n",
       "      <td>What cover art by Vofan would you like to see ...</td>\n",
       "      <td>araragi</td>\n",
       "    </tr>\n",
       "  </tbody>\n",
       "</table>\n",
       "</div>"
      ],
      "text/plain": [
       "                                                  posts        subreddit\n",
       "794   How secure is the Lore about the towers? First...          teslore\n",
       "801   ERROR - handle_stream_read error 335544539 sho...  ShieldAndroidTV\n",
       "813   Should you REALLY watch Monogatari in the broa...          araragi\n",
       "1064  PhD in Counselor Education and Supervision Hi,...    psychotherapy\n",
       "1068  What cover art by Vofan would you like to see ...          araragi"
      ]
     },
     "execution_count": 52,
     "metadata": {},
     "output_type": "execute_result"
    }
   ],
   "source": [
    "# Concatenating comment title and body in order to process them together\n",
    "train_df_posts = pd.DataFrame(columns = ['posts','subreddit'])\n",
    "test_df_posts = pd.DataFrame(columns = ['posts','subreddit'])\n",
    "\n",
    "train_df_posts['posts']= train_df_sample['title']+ \" \"+ train_df_sample['selftext']\n",
    "train_df_posts['subreddit'] = train_df_sample['subreddit']\n",
    "\n",
    "test_df_posts['posts']= test_df_sample['title']+ \" \"+ test_df_sample['selftext']\n",
    "test_df_posts['subreddit'] = test_df_sample['subreddit']\n",
    "\n",
    "train_df_posts.head()"
   ]
  },
  {
   "cell_type": "code",
   "execution_count": 53,
   "metadata": {},
   "outputs": [],
   "source": [
    "X_train , X_test  = train_df_posts.posts, test_df_posts.posts\n",
    "y_train, y_test   = train_df_posts.subreddit, test_df_posts.subreddit\n",
    "\n",
    "X_train_normalized = normalize_corpus(X_train)\n",
    "X_test_normalized = normalize_corpus(X_test)"
   ]
  },
  {
   "cell_type": "code",
   "execution_count": 54,
   "metadata": {},
   "outputs": [
    {
     "data": {
      "text/plain": [
       "array([7, 1, 2, 6, 2])"
      ]
     },
     "execution_count": 54,
     "metadata": {},
     "output_type": "execute_result"
    }
   ],
   "source": [
    "# Encode the subreddit lables.\n",
    "# label encode y\n",
    "le = LabelEncoder()\n",
    "le.fit(y_train)\n",
    "y_train = le.transform(y_train)\n",
    "y_test  = le.transform(y_test)\n",
    "\n",
    "y_train[:5]"
   ]
  },
  {
   "cell_type": "code",
   "execution_count": 72,
   "metadata": {},
   "outputs": [
    {
     "name": "stdout",
     "output_type": "stream",
     "text": [
      "{'HongKong': 0, 'ShieldAndroidTV': 1, 'araragi': 2, 'dwarffortress': 3, 'everquest': 4, 'gopro': 5, 'psychotherapy': 6, 'teslore': 7, 'twentyonepilots': 8, 'uBlockOrigin': 9}\n"
     ]
    }
   ],
   "source": [
    "integer_mapping = {l: i for i, l in enumerate(le.classes_)}\n",
    "print(integer_mapping)"
   ]
  },
  {
   "cell_type": "code",
   "execution_count": 55,
   "metadata": {},
   "outputs": [],
   "source": [
    "# instatiating the TfidfVectorizer\n",
    "tfidvec = TfidfVectorizer(max_features = 3000,\n",
    "                                min_df=5,\n",
    "                                ngram_range=(1,2),\n",
    "                                stop_words=stopword_list,\n",
    "                                analyzer='word',\n",
    "                                token_pattern='(?u)\\\\b\\\\w+\\\\b')\n",
    "\n",
    "# getting the sparse matrices for X_train and X_test\n",
    "tfidvec.fit(X_train_normalized)\n",
    "X_train_tfidf = tfidvec.transform(X_train_normalized)\n",
    "X_test_tfidf = tfidvec.transform(X_test_normalized)"
   ]
  },
  {
   "cell_type": "code",
   "execution_count": 56,
   "metadata": {},
   "outputs": [],
   "source": [
    "# Scaling the sparse matrix\n",
    "transformer = MaxAbsScaler().fit(X_train_tfidf)\n",
    "X_train_tfidf = transformer.transform(X_train_tfidf)\n",
    "X_test_tfidf =  transformer.transform(X_test_tfidf)"
   ]
  },
  {
   "cell_type": "code",
   "execution_count": 58,
   "metadata": {},
   "outputs": [
    {
     "name": "stdout",
     "output_type": "stream",
     "text": [
      "Accuracy Score: 0.953\n"
     ]
    }
   ],
   "source": [
    "#Naive Bayes with Tfidf\n",
    "from sklearn.naive_bayes import MultinomialNB\n",
    "model = MultinomialNB(alpha=0.1)\n",
    "model.fit(X_train_tfidf,y_train)\n",
    "result_model=model.predict(X_test_tfidf)\n",
    "print(\"Accuracy Score:\",accuracy_score(y_test,result_model))"
   ]
  },
  {
   "cell_type": "code",
   "execution_count": 78,
   "metadata": {},
   "outputs": [
    {
     "name": "stdout",
     "output_type": "stream",
     "text": [
      "Confusion matrix, without normalization\n",
      "[[173   3   3   3   1   4   8   0   4   1]\n",
      " [  1 198   0   0   1   0   0   0   0   0]\n",
      " [  5   1 186   0   1   0   0   0   5   2]\n",
      " [  1   1   3 190   2   0   0   0   1   2]\n",
      " [  1   2   0   1 193   1   1   0   1   0]\n",
      " [  1   4   0   0   1 193   0   0   0   1]\n",
      " [  4   1   0   0   1   0 192   0   2   0]\n",
      " [  1   1   1   4   1   0   0 192   0   0]\n",
      " [  2   1   1   0   1   3   1   0 191   0]\n",
      " [  1   0   0   0   0   0   0   0   1 198]]\n"
     ]
    },
    {
     "data": {
      "image/png": "[encoded data removed]",
      "text/plain": [
       "<Figure size 432x288 with 2 Axes>"
      ]
     },
     "metadata": {
      "needs_background": "light"
     },
     "output_type": "display_data"
    }
   ],
   "source": [
    "cnf_matrix_nb = confusion_matrix(y_test, result_model, labels=[0,1,2,3,4,5,6,7,8,9])\n",
    "np.set_printoptions(precision=2)\n",
    "\n",
    "# Plot non-normalized confusion matrix\n",
    "plt.figure()\n",
    "plot_confusion_matrix(cnf_matrix_nb, classes=[0,1,2,3,4,5,6,7,8,9],\n",
    "                      title='Confusion matrix for Multinomial Naive Bayes, without normalization')"
   ]
  },
  {
   "cell_type": "code",
   "execution_count": 59,
   "metadata": {},
   "outputs": [
    {
     "name": "stderr",
     "output_type": "stream",
     "text": [
      "/anaconda3/lib/python3.7/site-packages/sklearn/svm/base.py:196: FutureWarning: The default value of gamma will change from 'auto' to 'scale' in version 0.22 to account better for unscaled features. Set gamma explicitly to 'auto' or 'scale' to avoid this warning.\n",
      "  \"avoid this warning.\", FutureWarning)\n"
     ]
    },
    {
     "name": "stdout",
     "output_type": "stream",
     "text": [
      "Accuracy Score: 0.7475\n"
     ]
    }
   ],
   "source": [
    "#SVM with tfidf\n",
    "clf = SVC(kernel='rbf')\n",
    "clf.fit(X_train_tfidf,y_train)\n",
    "result_clf=clf.predict(X_test_tfidf)\n",
    "print(\"Accuracy Score:\",accuracy_score(y_test,result_clf))"
   ]
  },
  {
   "cell_type": "code",
   "execution_count": 81,
   "metadata": {},
   "outputs": [
    {
     "name": "stdout",
     "output_type": "stream",
     "text": [
      "Confusion matrix, without normalization\n",
      "[[ 72   1   0   1   1   0  16 107   2   0]\n",
      " [  0 159   0   0   0   0   0  40   1   0]\n",
      " [  0   1 157   0   0   0   0  39   3   0]\n",
      " [  0   0   1 138   1   0   0  60   0   0]\n",
      " [  0   0   0   0 144   0   0  55   1   0]\n",
      " [  0   0   0   1   0 137   0  62   0   0]\n",
      " [  0   0   0   0   0   0 162  38   0   0]\n",
      " [  0   0   0   0   0   0   0 200   0   0]\n",
      " [  0   0   0   1   0   0   0  46 153   0]\n",
      " [  0   0   1   0   0   0   0  26   0 173]]\n"
     ]
    },
    {
     "data": {
      "image/png": "[encoded data removed]",
      "text/plain": [
       "<Figure size 432x288 with 2 Axes>"
      ]
     },
     "metadata": {
      "needs_background": "light"
     },
     "output_type": "display_data"
    }
   ],
   "source": [
    "cnf_matrix_svm = confusion_matrix(y_test, result_clf, labels=[0,1,2,3,4,5,6,7,8,9])\n",
    "np.set_printoptions(precision=2)\n",
    "\n",
    "# Plot non-normalized confusion matrix\n",
    "plt.figure()\n",
    "plot_confusion_matrix(cnf_matrix_svm, classes=[0,1,2,3,4,5,6,7,8,9],\n",
    "                      title='Confusion matrix for SVM, without normalization')"
   ]
  },
  {
   "cell_type": "code",
   "execution_count": 61,
   "metadata": {},
   "outputs": [
    {
     "name": "stdout",
     "output_type": "stream",
     "text": [
      "Fitting 3 folds for each of 216 candidates, totalling 648 fits\n"
     ]
    },
    {
     "name": "stderr",
     "output_type": "stream",
     "text": [
      "/anaconda3/lib/python3.7/site-packages/sklearn/model_selection/_split.py:2053: FutureWarning: You should specify a value for 'cv' instead of relying on the default value. The default value will change from 3 to 5 in version 0.22.\n",
      "  warnings.warn(CV_WARNING, FutureWarning)\n",
      "[Parallel(n_jobs=2)]: Using backend LokyBackend with 2 concurrent workers.\n",
      "/anaconda3/lib/python3.7/site-packages/sklearn/externals/joblib/externals/loky/process_executor.py:706: UserWarning: A worker stopped while some jobs were given to the executor. This can be caused by a too short worker timeout or by a memory leak.\n",
      "  \"timeout or by a memory leak.\", UserWarning\n",
      "[Parallel(n_jobs=2)]: Done  46 tasks      | elapsed: 13.0min\n",
      "[Parallel(n_jobs=2)]: Done 196 tasks      | elapsed: 52.3min\n",
      "[Parallel(n_jobs=2)]: Done 446 tasks      | elapsed: 133.7min\n",
      "[Parallel(n_jobs=2)]: Done 648 out of 648 | elapsed: 236.8min finished\n"
     ]
    }
   ],
   "source": [
    "# Random Forest Classifier with Grid Search for parameter optimization\n",
    "steps = [\n",
    "    (\"vectorizer\", TfidfVectorizer(min_df=5,\n",
    "                                   stop_words=stopword_list,\n",
    "                                   analyzer='word',\n",
    "                                   token_pattern='(?u)\\\\b\\\\w+\\\\b')),\n",
    "    (\"Scaler\", MaxAbsScaler()),\n",
    "    (\"rf\", RandomForestClassifier())\n",
    "]\n",
    "\n",
    "# instatiating the pipeline\n",
    "pipe = Pipeline(steps)\n",
    "\n",
    "# setting the values for the RandomForest model\n",
    "grid_params = {\n",
    "    \"vectorizer__max_features\": [2000, 3000, 4000],\n",
    "    \"vectorizer__ngram_range\":[(1,1), (1,2)],\n",
    "    \"rf__n_estimators\": [2500, 3000, 3500],\n",
    "    \"rf__max_depth\": [17, 18, 19, 20],\n",
    "    \"rf__min_samples_leaf\": [1, 2, 3]\n",
    "    \n",
    "}\n",
    "\n",
    "# grid search\n",
    "gs = GridSearchCV(pipe, grid_params, CV = 3, verbose=1, n_jobs=2)\n",
    "results2 = gs.fit(X_train_normalized, y_train)"
   ]
  },
  {
   "cell_type": "code",
   "execution_count": 63,
   "metadata": {},
   "outputs": [
    {
     "name": "stdout",
     "output_type": "stream",
     "text": [
      "0.93\n"
     ]
    }
   ],
   "source": [
    "print(results2.score(X_test_normalized, y_test))"
   ]
  },
  {
   "cell_type": "code",
   "execution_count": 64,
   "metadata": {},
   "outputs": [
    {
     "name": "stdout",
     "output_type": "stream",
     "text": [
      "{'rf__max_depth': 20, 'rf__min_samples_leaf': 1, 'rf__n_estimators': 2500, 'vectorizer__max_features': 4000, 'vectorizer__ngram_range': (1, 1)}\n"
     ]
    }
   ],
   "source": [
    "print(results2.best_params_)"
   ]
  },
  {
   "cell_type": "code",
   "execution_count": 83,
   "metadata": {},
   "outputs": [
    {
     "name": "stdout",
     "output_type": "stream",
     "text": [
      "Confusion matrix, without normalization\n",
      "[[166   2   1   0   4   1   4  17   2   3]\n",
      " [  1 194   0   0   2   2   0   1   0   0]\n",
      " [  0   2 188   0   3   0   0   3   2   2]\n",
      " [  0   1   2 167   6   0   2  21   0   1]\n",
      " [  0   0   1   1 188   1   1   6   0   2]\n",
      " [  0   3   1   0   0 193   0   3   0   0]\n",
      " [  0   0   0   0   1   0 196   3   0   0]\n",
      " [  0   0   0   2   2   3   0 188   2   3]\n",
      " [  0   0   1   0   1   1   1  12 184   0]\n",
      " [  0   0   0   0   0   1   0   3   0 196]]\n"
     ]
    },
    {
     "data": {
      "image/png": "[encoded data removed]",
      "text/plain": [
       "<Figure size 432x288 with 2 Axes>"
      ]
     },
     "metadata": {
      "needs_background": "light"
     },
     "output_type": "display_data"
    }
   ],
   "source": [
    "results_rf = gs.best_estimator_.predict(X_test_normalized)\n",
    "cnf_matrix_rf = confusion_matrix(y_test, results_rf, labels=[0,1,2,3,4,5,6,7,8,9])\n",
    "np.set_printoptions(precision=2)\n",
    "\n",
    "# Plot non-normalized confusion matrix\n",
    "plt.figure()\n",
    "plot_confusion_matrix(cnf_matrix_rf, classes=[0,1,2,3,4,5,6,7,8,9],\n",
    "                      title='Confusion matrix for Random Forest, without normalization')"
   ]
  },
  {
   "cell_type": "code",
   "execution_count": null,
   "metadata": {},
   "outputs": [],
   "source": []
  }
 ],
 "metadata": {
  "kernelspec": {
   "display_name": "Python 3",
   "language": "python",
   "name": "python3"
  },
  "language_info": {
   "codemirror_mode": {
    "name": "ipython",
    "version": 3
   },
   "file_extension": ".py",
   "mimetype": "text/x-python",
   "name": "python",
   "nbconvert_exporter": "python",
   "pygments_lexer": "ipython3",
   "version": "3.7.3"
  }
 },
 "nbformat": 4,
 "nbformat_minor": 2
}
